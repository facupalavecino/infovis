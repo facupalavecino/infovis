{
 "cells": [
  {
   "cell_type": "markdown",
   "metadata": {},
   "source": [
    "# Main notebook\n",
    "\n",
    "This notebook reads the `ParticipantStatusLogs` files and extracts records from certain moments of the day.\n",
    "\n",
    "Then, It concatenates everything in a new CSV file."
   ]
  },
  {
   "cell_type": "code",
   "execution_count": 8,
   "metadata": {},
   "outputs": [],
   "source": [
    "import pandas as pd"
   ]
  },
  {
   "cell_type": "markdown",
   "metadata": {},
   "source": [
    "### Read status log fiels and filter certain moments of the day"
   ]
  },
  {
   "cell_type": "code",
   "execution_count": 19,
   "metadata": {
    "scrolled": true
   },
   "outputs": [
    {
     "name": "stdout",
     "output_type": "stream",
     "text": [
      "File 6 processed. 11440 records\n",
      "File 7 processed. 22000 records\n",
      "File 8 processed. 33440 records\n",
      "File 9 processed. 44880 records\n",
      "File 10 processed. 55440 records\n",
      "File 11 processed. 66880 records\n",
      "File 12 processed. 77440 records\n",
      "File 13 processed. 88880 records\n",
      "File 14 processed. 100320 records\n",
      "File 15 processed. 110880 records\n",
      "File 16 processed. 122320 records\n",
      "File 17 processed. 132880 records\n",
      "File 18 processed. 144320 records\n",
      "File 19 processed. 155760 records\n",
      "File 20 processed. 166320 records\n",
      "File 21 processed. 177760 records\n",
      "File 22 processed. 189200 records\n",
      "File 23 processed. 199760 records\n",
      "File 24 processed. 211200 records\n",
      "File 25 processed. 222640 records\n",
      "File 26 processed. 233200 records\n",
      "File 27 processed. 244640 records\n",
      "File 28 processed. 255200 records\n",
      "File 29 processed. 266640 records\n",
      "File 30 processed. 277200 records\n",
      "File 31 processed. 288640 records\n",
      "File 32 processed. 300080 records\n",
      "File 33 processed. 310640 records\n",
      "File 34 processed. 322080 records\n",
      "File 35 processed. 333520 records\n",
      "File 36 processed. 344080 records\n",
      "File 37 processed. 355520 records\n",
      "File 38 processed. 366080 records\n",
      "File 39 processed. 377520 records\n",
      "File 40 processed. 388960 records\n",
      "File 41 processed. 399520 records\n",
      "File 42 processed. 410960 records\n",
      "File 43 processed. 421520 records\n",
      "File 44 processed. 432960 records\n",
      "File 45 processed. 444400 records\n",
      "File 46 processed. 454960 records\n",
      "File 47 processed. 466400 records\n",
      "File 48 processed. 477840 records\n",
      "File 49 processed. 488400 records\n",
      "File 50 processed. 499840 records\n",
      "File 51 processed. 511280 records\n",
      "File 52 processed. 521840 records\n",
      "File 53 processed. 533280 records\n",
      "File 54 processed. 543840 records\n",
      "File 55 processed. 555280 records\n",
      "File 56 processed. 565840 records\n",
      "File 57 processed. 577280 records\n",
      "File 58 processed. 588720 records\n",
      "File 59 processed. 599280 records\n",
      "File 60 processed. 610720 records\n",
      "File 61 processed. 621280 records\n",
      "File 62 processed. 632720 records\n",
      "File 63 processed. 643280 records\n",
      "File 64 processed. 654720 records\n",
      "File 65 processed. 666160 records\n",
      "File 66 processed. 676720 records\n",
      "File 67 processed. 688160 records\n",
      "File 68 processed. 699600 records\n"
     ]
    }
   ],
   "source": [
    "df = None\n",
    "\n",
    "# Period 2022-04 - 2023-04\n",
    "for file_number in range(6, 69):\n",
    "    filename = f\"ParticipantStatusLogs{file_number}.csv\"\n",
    "    path = f\"/Users/facundopalavecino/Documents/Facu/ITBA/Cursadas/08 - Data Viz/VAST-challenge/VAST-Challenge-2022/Datasets/Activity Logs/{filename}\"\n",
    "\n",
    "    log = pd.read_csv(path)\n",
    "    \n",
    "    log.timestamp = pd.to_datetime(log.timestamp)\n",
    "    \n",
    "    log = log.set_index(\"timestamp\")\n",
    "    \n",
    "    logs = pd.concat([\n",
    "        log.at_time(\"12:00\"),\n",
    "        log.at_time(\"22:00\")\n",
    "    ])\n",
    "    \n",
    "    logs = logs.reset_index()\n",
    "\n",
    "    if df is None:\n",
    "        df = logs\n",
    "        \n",
    "    else:\n",
    "        df = pd.concat([df, logs], axis=0, ignore_index=True)\n",
    "    \n",
    "    print(f\"File {file_number} processed. {len(df)} records\")"
   ]
  },
  {
   "cell_type": "markdown",
   "metadata": {},
   "source": [
    "### Take a look at the result"
   ]
  },
  {
   "cell_type": "code",
   "execution_count": 22,
   "metadata": {
    "scrolled": false
   },
   "outputs": [
    {
     "data": {
      "text/html": [
       "<div>\n",
       "<style scoped>\n",
       "    .dataframe tbody tr th:only-of-type {\n",
       "        vertical-align: middle;\n",
       "    }\n",
       "\n",
       "    .dataframe tbody tr th {\n",
       "        vertical-align: top;\n",
       "    }\n",
       "\n",
       "    .dataframe thead th {\n",
       "        text-align: right;\n",
       "    }\n",
       "</style>\n",
       "<table border=\"1\" class=\"dataframe\">\n",
       "  <thead>\n",
       "    <tr style=\"text-align: right;\">\n",
       "      <th></th>\n",
       "      <th>timestamp</th>\n",
       "      <th>currentLocation</th>\n",
       "      <th>participantId</th>\n",
       "      <th>currentMode</th>\n",
       "      <th>hungerStatus</th>\n",
       "      <th>sleepStatus</th>\n",
       "      <th>apartmentId</th>\n",
       "      <th>availableBalance</th>\n",
       "      <th>jobId</th>\n",
       "      <th>financialStatus</th>\n",
       "      <th>dailyFoodBudget</th>\n",
       "      <th>weeklyExtraBudget</th>\n",
       "    </tr>\n",
       "  </thead>\n",
       "  <tbody>\n",
       "    <tr>\n",
       "      <th>0</th>\n",
       "      <td>2022-04-01 12:00:00+00:00</td>\n",
       "      <td>POINT (36.324178793607146 1263.1211858073589)</td>\n",
       "      <td>0</td>\n",
       "      <td>AtWork</td>\n",
       "      <td>BecomingHungry</td>\n",
       "      <td>Awake</td>\n",
       "      <td>926</td>\n",
       "      <td>9531.910195</td>\n",
       "      <td>254</td>\n",
       "      <td>Stable</td>\n",
       "      <td>12</td>\n",
       "      <td>2008.976229</td>\n",
       "    </tr>\n",
       "    <tr>\n",
       "      <th>1</th>\n",
       "      <td>2022-04-01 12:00:00+00:00</td>\n",
       "      <td>POINT (-2612.2843755981316 6482.785001276145)</td>\n",
       "      <td>1</td>\n",
       "      <td>AtWork</td>\n",
       "      <td>BecomingHungry</td>\n",
       "      <td>Awake</td>\n",
       "      <td>928</td>\n",
       "      <td>7238.335901</td>\n",
       "      <td>929</td>\n",
       "      <td>Stable</td>\n",
       "      <td>12</td>\n",
       "      <td>1618.463065</td>\n",
       "    </tr>\n",
       "    <tr>\n",
       "      <th>2</th>\n",
       "      <td>2022-04-01 12:00:00+00:00</td>\n",
       "      <td>POINT (440.77629266280564 4341.806688262852)</td>\n",
       "      <td>2</td>\n",
       "      <td>AtWork</td>\n",
       "      <td>BecomingHungry</td>\n",
       "      <td>Awake</td>\n",
       "      <td>291</td>\n",
       "      <td>7288.178782</td>\n",
       "      <td>348</td>\n",
       "      <td>Stable</td>\n",
       "      <td>16</td>\n",
       "      <td>1504.354990</td>\n",
       "    </tr>\n",
       "    <tr>\n",
       "      <th>3</th>\n",
       "      <td>2022-04-01 12:00:00+00:00</td>\n",
       "      <td>POINT (1367.9266119846243 4855.283897597215)</td>\n",
       "      <td>3</td>\n",
       "      <td>AtWork</td>\n",
       "      <td>BecomingHungry</td>\n",
       "      <td>Awake</td>\n",
       "      <td>1243</td>\n",
       "      <td>6879.077847</td>\n",
       "      <td>316</td>\n",
       "      <td>Stable</td>\n",
       "      <td>12</td>\n",
       "      <td>1441.887653</td>\n",
       "    </tr>\n",
       "    <tr>\n",
       "      <th>4</th>\n",
       "      <td>2022-04-01 12:00:00+00:00</td>\n",
       "      <td>POINT (917.2965590639861 4305.6452297830165)</td>\n",
       "      <td>4</td>\n",
       "      <td>AtWork</td>\n",
       "      <td>BecomingHungry</td>\n",
       "      <td>Awake</td>\n",
       "      <td>136</td>\n",
       "      <td>6323.367148</td>\n",
       "      <td>177</td>\n",
       "      <td>Stable</td>\n",
       "      <td>20</td>\n",
       "      <td>3024.368034</td>\n",
       "    </tr>\n",
       "  </tbody>\n",
       "</table>\n",
       "</div>"
      ],
      "text/plain": [
       "                  timestamp                                currentLocation  \\\n",
       "0 2022-04-01 12:00:00+00:00  POINT (36.324178793607146 1263.1211858073589)   \n",
       "1 2022-04-01 12:00:00+00:00  POINT (-2612.2843755981316 6482.785001276145)   \n",
       "2 2022-04-01 12:00:00+00:00   POINT (440.77629266280564 4341.806688262852)   \n",
       "3 2022-04-01 12:00:00+00:00   POINT (1367.9266119846243 4855.283897597215)   \n",
       "4 2022-04-01 12:00:00+00:00   POINT (917.2965590639861 4305.6452297830165)   \n",
       "\n",
       "   participantId currentMode    hungerStatus sleepStatus  apartmentId  \\\n",
       "0              0      AtWork  BecomingHungry       Awake          926   \n",
       "1              1      AtWork  BecomingHungry       Awake          928   \n",
       "2              2      AtWork  BecomingHungry       Awake          291   \n",
       "3              3      AtWork  BecomingHungry       Awake         1243   \n",
       "4              4      AtWork  BecomingHungry       Awake          136   \n",
       "\n",
       "   availableBalance  jobId financialStatus  dailyFoodBudget  weeklyExtraBudget  \n",
       "0       9531.910195    254          Stable               12        2008.976229  \n",
       "1       7238.335901    929          Stable               12        1618.463065  \n",
       "2       7288.178782    348          Stable               16        1504.354990  \n",
       "3       6879.077847    316          Stable               12        1441.887653  \n",
       "4       6323.367148    177          Stable               20        3024.368034  "
      ]
     },
     "execution_count": 22,
     "metadata": {},
     "output_type": "execute_result"
    }
   ],
   "source": [
    "df.head()"
   ]
  },
  {
   "cell_type": "markdown",
   "metadata": {},
   "source": [
    "### Save it in a new CSV file"
   ]
  },
  {
   "cell_type": "code",
   "execution_count": 21,
   "metadata": {},
   "outputs": [],
   "source": [
    "df.to_csv(\"2022-04__2023-04__1200-2200.csv\")"
   ]
  }
 ],
 "metadata": {
  "interpreter": {
   "hash": "2958d7638dd606d5b831e7cf643b84ba2cba67fd8e5afceb84449a96a5b77f01"
  },
  "kernelspec": {
   "display_name": "vast",
   "language": "python",
   "name": "vast"
  },
  "language_info": {
   "codemirror_mode": {
    "name": "ipython",
    "version": 3
   },
   "file_extension": ".py",
   "mimetype": "text/x-python",
   "name": "python",
   "nbconvert_exporter": "python",
   "pygments_lexer": "ipython3",
   "version": "3.9.10"
  }
 },
 "nbformat": 4,
 "nbformat_minor": 2
}
